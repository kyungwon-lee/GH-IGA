{
 "cells": [
  {
   "cell_type": "markdown",
   "metadata": {},
   "source": [
    "## Inactivity_time UNIT화 하기! 함수 만들기"
   ]
  },
  {
   "cell_type": "markdown",
   "metadata": {},
   "source": [
    "### input으로 받아야 할 것 : file이름, inactivity time을 직접 입력할 것인지 여부, 직접 한다면 어떤 값으로 할것인지? 비율로 입력한다면 몇 퍼센트?\n",
    "\n",
    "### output은 csv file이겠지유"
   ]
  },
  {
   "cell_type": "code",
   "execution_count": 27,
   "metadata": {},
   "outputs": [],
   "source": [
    "def pathmaker_inactivity(input_filename,output_filename, inactivity_setting, inactivity_time):\n",
    "    import pandas as pd\n",
    "    import numpy as np\n",
    "    import datetime\n",
    "    from tqdm import tqdm\n",
    "    \n",
    "    df = pd.read_csv(input_filename) ## filename은 'union_1908.csv' 이런 식이어야 한다!\n",
    "    \n",
    "    df['partner_key'].fillna('null', inplace = True)\n",
    "    df['amount'].fillna(0, inplace = True)\n",
    "    \n",
    "    ##이 partner dic을 함수의 input으로 받을 것인지는 생각!!\n",
    "    partner_dic = {'T1m2A6iwPUemMh5gQZ3FRA':'a', 'NGHO984OM0SciKycDGPmYA':'b', 'RK10BMLBB02TTT0G0GWMrg':'c', '0BChBVxZSUOhg3yJgn7o0A':'d', '41loF2NK40GBUzUBDC1Zrw':'e', 'o72f0c4oF0WMsPGvuIt5vQ':'f', 'null':'direct'}\n",
    "    \n",
    "    for key, value in partner_dic.items():\n",
    "        df.loc[df['partner_key'] == key, 'index'] = value\n",
    "    \n",
    "    \n",
    "    df['datetime'] = pd.to_datetime(df['datetime'])\n",
    "    df['timediff'] = df.datetime.diff().dt.days*24 + (df.datetime.diff().dt.seconds / 3600)\n",
    "    \n",
    "    id_dic = {}\n",
    "    for key, value in df.adid.items():\n",
    "        id_dic[value] = key+1\n",
    "    change = list(id_dic.values())[:-1]\n",
    "    \n",
    "    df.loc[change, 'timediff'] = np.nan\n",
    "    \n",
    "    ##inactivity_setting = 0 이면 비율로!! 1이면 사용자 직접 입력!\n",
    "    if inactivity_setting == 0:\n",
    "        inactivity = df.timediff.quantile(inactivity_time)\n",
    "        \n",
    "    elif inactivity_setting == 1:\n",
    "        inactivity = inactivity_time\n",
    "    else :\n",
    "        print(\"Your 'inactivity_setting' input is wrong. Please input 0 for ratio, 1 for direct input.\")\n",
    "    \n",
    "    \n",
    "    df['micro_session'] = 0\n",
    "    df.loc[0, 'micro_session'] = 1\n",
    "    df.loc[change, 'micro_session'] = 1\n",
    "    \n",
    "    timediff_change = list(map(lambda x: int(1) if x >= inactivity else np.nan, list(df['timediff'])))\n",
    "    timediff_change = [i for i in range(len(timediff_change)) if timediff_change[i] == 1]\n",
    "    df.loc[timediff_change, 'micro_session'] = 1\n",
    "    \n",
    "    purchase_change = list(map(lambda x: int(1) if x == \"abx:purchase\" else np.nan, list(df['event_name'])))\n",
    "    purchase_change = [i+1 for i in range(len(purchase_change)) if purchase_change[i] == 1]\n",
    "    if purchase_change[-1] == len(df):\n",
    "        purchase_change = purchase_change[:-1]\n",
    "    df.loc[purchase_change, 'micro_session'] = 1\n",
    "    \n",
    "    ms = list(df['micro_session'])\n",
    "    ix = list(df['index'])\n",
    "    mt = list(df['amount'])\n",
    "\n",
    "    path = []\n",
    "    amount = []\n",
    "    for p, i, m in zip(ms, ix, mt):\n",
    "        if p == 1:\n",
    "            path.append([i])\n",
    "            amount.append([m])\n",
    "        elif p == 0:\n",
    "            path[-1].append(i)\n",
    "            amount[-1].append(m)\n",
    "\n",
    "    path = ['>'.join(p) for p in path]\n",
    "    amount = [sum(m) for m in amount]\n",
    "    conversion = [1 if p.endswith('direct') else 0 for p in path]\n",
    "    null = [1 if c == 0 else 0 for c in conversion]\n",
    "\n",
    "    fin_df = pd.DataFrame({'path': path, 'total_conversions': conversion, 'total_conversion_value': amount, 'total_null': null})\n",
    "\n",
    "    pppp = [path[:-7] if '>direct' in path else path for path in list(fin_df['path'])]\n",
    "    \n",
    "    fin_df['path'] = pppp \n",
    "    fin_df2 = fin_df[fin_df.path !='direct']\n",
    "\n",
    "    fin_df2.to_csv(output_filename, index = False)"
   ]
  },
  {
   "cell_type": "code",
   "execution_count": 28,
   "metadata": {},
   "outputs": [],
   "source": [
    "pathmaker_inactivity('union_1908.csv','REAL FINAL.csv', 0, 0.75)"
   ]
  }
 ],
 "metadata": {
  "kernelspec": {
   "display_name": "Python 3",
   "language": "python",
   "name": "python3"
  },
  "language_info": {
   "codemirror_mode": {
    "name": "ipython",
    "version": 3
   },
   "file_extension": ".py",
   "mimetype": "text/x-python",
   "name": "python",
   "nbconvert_exporter": "python",
   "pygments_lexer": "ipython3",
   "version": "3.6.8"
  }
 },
 "nbformat": 4,
 "nbformat_minor": 2
}
