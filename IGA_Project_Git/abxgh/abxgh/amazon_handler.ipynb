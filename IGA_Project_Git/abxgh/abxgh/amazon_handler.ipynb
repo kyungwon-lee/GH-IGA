{
 "cells": [
  {
   "cell_type": "code",
   "execution_count": 25,
   "metadata": {},
   "outputs": [],
   "source": [
    "# S3 접근하기\n",
    "import boto3\n",
    "s3_resource = boto3.resource('s3')"
   ]
  },
  {
   "cell_type": "code",
   "execution_count": 2,
   "metadata": {},
   "outputs": [],
   "source": [
    "# Athena 사용하기\n",
    "import boto3\n",
    "client = boto3.client('athena')"
   ]
  },
  {
   "cell_type": "code",
   "execution_count": 1,
   "metadata": {},
   "outputs": [
    {
     "name": "stdout",
     "output_type": "stream",
     "text": [
      "                               adid\n",
      "0  d41d8cd98f00b204e9800998ecf8427e\n",
      "1  d41d8cd98f00b204e9800998ecf8427e\n",
      "2  d41d8cd98f00b204e9800998ecf8427e\n",
      "3  d41d8cd98f00b204e9800998ecf8427e\n",
      "4  d41d8cd98f00b204e9800998ecf8427e\n"
     ]
    }
   ],
   "source": [
    "# Athena에서 쿼리 실행 후 pandas dataframe으로 받기\n",
    "from pyathena import connect\n",
    "import pandas as pd\n",
    "import config\n",
    "\n",
    "aws_access_key = config.Access_key_ID\n",
    "aws_secret_access_key = config.Scret_access_key\n",
    "region = 'ap-northeast-2'\n",
    "default_dir = 's3://adbrix.gh.data/'\n",
    "\n",
    "\n",
    "\n",
    "conn = connect(aws_access_key_id=aws_access_key,\n",
    "               aws_secret_access_key=aws_secret_access_key,\n",
    "               s3_staging_dir=default_dir,\n",
    "               region_name=region)\n",
    "df = pd.read_sql(\"SELECT adid FROM sampledb.adtouch_table_201908 limit 100\", conn)\n",
    "print(df.head())"
   ]
  },
  {
   "cell_type": "code",
   "execution_count": 20,
   "metadata": {},
   "outputs": [
    {
     "name": "stdout",
     "output_type": "stream",
     "text": [
      "[('adid',), ('adid',), ('adid',), ('adid',), ('adid',), ('adid',), ('adid',), ('adid',), ('adid',), ('adid',), ('adid',), ('adid',), ('adid',), ('adid',), ('adid',), ('adid',), ('adid',), ('adid',), ('adid',), ('adid',), ('adid',), ('adid',), ('adid',), ('adid',), ('adid',), ('adid',), ('adid',), ('adid',), ('adid',), ('adid',), ('adid',), ('adid',), ('adid',), ('adid',), ('adid',), ('adid',), ('adid',), ('adid',), ('adid',), ('adid',), ('adid',), ('adid',), ('adid',), ('adid',), ('adid',), ('adid',), ('adid',), ('adid',), ('adid',), ('adid',), ('adid',), ('adid',), ('adid',), ('adid',), ('adid',), ('adid',), ('adid',), ('adid',), ('adid',), ('adid',), ('adid',), ('adid',), ('adid',), ('adid',), ('adid',), ('adid',), ('adid',), ('adid',), ('adid',), ('adid',), ('adid',), ('adid',), ('adid',), ('adid',), ('adid',), ('adid',), ('adid',), ('adid',), ('adid',), ('adid',), ('adid',), ('adid',), ('adid',), ('adid',), ('adid',), ('adid',), ('adid',), ('adid',), ('adid',), ('adid',), ('adid',), ('adid',), ('adid',), ('adid',), ('adid',), ('adid',), ('adid',), ('adid',), ('adid',), ('adid',)]\n"
     ]
    }
   ],
   "source": [
    "# parameter 전달하기 기본형 --> 안됨. 걍 파이썬에서 string operation으로 해결하자\n",
    "filtering_query = \"\"\"\n",
    "SELECT adid, \n",
    "       counts \n",
    "FROM \n",
    "    (SELECT adid, \n",
    "         count(*) counts \n",
    "    FROM %(param)s -- ITERATION: 월별 애드터치 데이터 \n",
    "    \n",
    "    GROUP BY  adid ) \n",
    "\n",
    "GROUP BY adid, counts \n",
    "\n",
    "HAVING counts <= APPROX_PERCENTILE(counts, 0.8)\n",
    "\"\"\"\n",
    "\n",
    "sample_query = \"SELECT %(param)s FROM sampledb.adtouch_table_201908 limit 100\"\n",
    "\n",
    "cursor = connect(aws_access_key_id=aws_access_key,\n",
    "                   aws_secret_access_key=aws_secret_access_key,\n",
    "                   s3_staging_dir=default_dir,\n",
    "                   region_name=region).cursor()\n",
    "\n",
    "cursor.execute(sample_query, {'param': \"adid\"})\n",
    "\n",
    "print(cursor.fetchall())"
   ]
  },
  {
   "cell_type": "markdown",
   "metadata": {},
   "source": [
    "### pandas cursor  \n",
    "PandasCursor directly handles the CSV file of the query execution result output to S3. This cursor is to download the CSV file after executing the query, and then loaded into DataFrame object. Performance is better than fetching data with a cursor."
   ]
  },
  {
   "cell_type": "code",
   "execution_count": null,
   "metadata": {},
   "outputs": [],
   "source": [
    "# pandas cursor 활용하기\n",
    "\n",
    "from pyathena.pandas_cursor import PandasCursor\n",
    "\n",
    "cursor = connect(aws_access_key_id=aws_access_key,\n",
    "               aws_secret_access_key=aws_secret_access_key,\n",
    "               s3_staging_dir=default_dir,\n",
    "               region_name=region,\n",
    "               cursor_class=PandasCursor).cursor()"
   ]
  },
  {
   "cell_type": "code",
   "execution_count": 2,
   "metadata": {},
   "outputs": [
    {
     "name": "stdout",
     "output_type": "stream",
     "text": [
      "                               adid  counts\n",
      "0  cefa46e8fe8b87d7c145f624661c2030       2\n",
      "1  3f0d2144d617e77f9b89766db00f5ac5       1\n",
      "2  1514d92de8c7ff28b7f3e86024db5cef       4\n",
      "3  92597f93d5316cdb77ad1c37ebb75277      22\n",
      "4  c12b43f32189cddfe472b8dfa2c9994f      33\n"
     ]
    }
   ],
   "source": [
    "# filtering adid from adtouch data\n",
    "\n",
    "yyyymm = '201908'\n",
    "percentile = '0.8'\n",
    "\n",
    "filtering_query = \"\"\"\n",
    "SELECT adid, \n",
    "       counts \n",
    "FROM \n",
    "    (SELECT adid, \n",
    "         count(*) counts \n",
    "    FROM sampledb.adtouch_table_{0} -- ITERATION: 월별 애드터치 데이터 \n",
    "    \n",
    "    GROUP BY  adid ) \n",
    "\n",
    "GROUP BY adid, counts \n",
    "\n",
    "HAVING counts <= APPROX_PERCENTILE(counts, {1}) \n",
    "\"\"\".format(yyyymm, percentile)\n",
    "\n",
    "df = cursor.execute(filtering_query).as_pandas()\n",
    "print(df.head())"
   ]
  },
  {
   "cell_type": "code",
   "execution_count": 7,
   "metadata": {},
   "outputs": [
    {
     "name": "stdout",
     "output_type": "stream",
     "text": [
      "                               adid         server_datetime    amount\n",
      "0  ff51bbbb195cda4700013d27c0460dab 2019-08-26 14:40:29.931   63900.0\n",
      "1  89b8c6a89871e7baab1fa3edf3e1fcde 2019-08-17 11:46:53.337  159000.0\n",
      "2  c56cd0d8b27a7727e0c5186dc8207000 2019-08-21 04:45:08.462   14950.0\n",
      "3  c56cd0d8b27a7727e0c5186dc8207000 2019-08-21 04:45:08.462   14950.0\n",
      "4  c56cd0d8b27a7727e0c5186dc8207000 2019-08-21 04:45:08.462   14950.0\n"
     ]
    }
   ],
   "source": [
    "# filtering purchase records of selected adid\n",
    "\n",
    "purchase_query = \"\"\"\n",
    "-- 특정 카운트 이하로만 등장하는 adid 테이블\n",
    "WITH filtered AS (\n",
    "    SELECT adid, \n",
    "           counts \n",
    "    FROM \n",
    "        (SELECT adid, count(*) counts \n",
    "        FROM sampledb.adtouch_table_{0} -- ITERATION: 월별 애드터치 데이터 \n",
    "        GROUP BY  adid ) \n",
    "\n",
    "    GROUP BY adid, counts \n",
    "    \n",
    "    HAVING counts <= APPROX_PERCENTILE(counts, {1})\n",
    ")\n",
    "\n",
    "\n",
    "-- 해당 adid에 포함되는 adid만 purchase 뽑기\n",
    "SELECT adid, server_datetime, evt_param_item_price * evt_param_item_quantity as amount\n",
    "\n",
    "FROM sampledb.events_table_{0} t1 -- ITERATION: 월별 이벤트 데이터\n",
    "WHERE event_name = 'abx:purchase'\n",
    "and EXISTS (\n",
    "  SELECT adid\n",
    "  FROM filtered t2\n",
    "  WHERE t1.adid = t2.adid\n",
    "  );\n",
    "\"\"\".format(yyyymm, percentile)\n",
    "\n",
    "df = cursor.execute(purchase_query).as_pandas()\n",
    "print(df.head())"
   ]
  },
  {
   "cell_type": "markdown",
   "metadata": {},
   "source": [
    "## 연습장"
   ]
  },
  {
   "cell_type": "markdown",
   "metadata": {},
   "source": [
    "경원이 요청 union 뽑아주기"
   ]
  },
  {
   "cell_type": "code",
   "execution_count": 9,
   "metadata": {},
   "outputs": [
    {
     "name": "stderr",
     "output_type": "stream",
     "text": [
      "ERROR:root:Internal Python error in the inspect module.\n",
      "Below is the traceback from this internal error.\n",
      "\n"
     ]
    },
    {
     "name": "stdout",
     "output_type": "stream",
     "text": [
      "Traceback (most recent call last):\n",
      "  File \"/usr/local/lib/python3.6/site-packages/IPython/core/interactiveshell.py\", line 3267, in run_code\n",
      "    exec(code_obj, self.user_global_ns, self.user_ns)\n",
      "  File \"<ipython-input-9-6b72d6bc9e92>\", line 1, in <module>\n",
      "    from query_handler import Handler\n",
      "ModuleNotFoundError: No module named 'query_handler'\n",
      "\n",
      "During handling of the above exception, another exception occurred:\n",
      "\n",
      "Traceback (most recent call last):\n",
      "  File \"/usr/local/lib/python3.6/site-packages/IPython/core/interactiveshell.py\", line 2018, in showtraceback\n",
      "    stb = value._render_traceback_()\n",
      "AttributeError: 'ModuleNotFoundError' object has no attribute '_render_traceback_'\n",
      "\n",
      "During handling of the above exception, another exception occurred:\n",
      "\n",
      "Traceback (most recent call last):\n",
      "  File \"/usr/local/lib/python3.6/site-packages/IPython/core/ultratb.py\", line 1095, in get_records\n",
      "    return _fixed_getinnerframes(etb, number_of_lines_of_context, tb_offset)\n",
      "  File \"/usr/local/lib/python3.6/site-packages/IPython/core/ultratb.py\", line 313, in wrapped\n",
      "    return f(*args, **kwargs)\n",
      "  File \"/usr/local/lib/python3.6/site-packages/IPython/core/ultratb.py\", line 347, in _fixed_getinnerframes\n",
      "    records = fix_frame_records_filenames(inspect.getinnerframes(etb, context))\n",
      "  File \"/usr/local/Cellar/python/3.6.5/Frameworks/Python.framework/Versions/3.6/lib/python3.6/inspect.py\", line 1483, in getinnerframes\n",
      "    frameinfo = (tb.tb_frame,) + getframeinfo(tb, context)\n",
      "  File \"/usr/local/Cellar/python/3.6.5/Frameworks/Python.framework/Versions/3.6/lib/python3.6/inspect.py\", line 1441, in getframeinfo\n",
      "    filename = getsourcefile(frame) or getfile(frame)\n",
      "  File \"/usr/local/Cellar/python/3.6.5/Frameworks/Python.framework/Versions/3.6/lib/python3.6/inspect.py\", line 696, in getsourcefile\n",
      "    if getattr(getmodule(object, filename), '__loader__', None) is not None:\n",
      "  File \"/usr/local/Cellar/python/3.6.5/Frameworks/Python.framework/Versions/3.6/lib/python3.6/inspect.py\", line 725, in getmodule\n",
      "    file = getabsfile(object, _filename)\n",
      "  File \"/usr/local/Cellar/python/3.6.5/Frameworks/Python.framework/Versions/3.6/lib/python3.6/inspect.py\", line 709, in getabsfile\n",
      "    return os.path.normcase(os.path.abspath(_filename))\n",
      "  File \"/usr/local/Cellar/python/3.6.5/Frameworks/Python.framework/Versions/3.6/lib/python3.6/posixpath.py\", line 376, in abspath\n",
      "    cwd = os.getcwd()\n",
      "FileNotFoundError: [Errno 2] No such file or directory\n"
     ]
    },
    {
     "ename": "ModuleNotFoundError",
     "evalue": "No module named 'query_handler'",
     "output_type": "error",
     "traceback": [
      "\u001b[0;31m---------------------------------------------------------------------------\u001b[0m"
     ]
    }
   ],
   "source": [
    "from query_handler import Handler\n",
    "import config\n",
    "\n",
    "curosr = Handler(config.Access_key_ID, config.Scret_access_key)\n",
    "\n",
    "yyyymm = \"201908\"\n",
    "percentile = \"0.8\"\n",
    "\n",
    "union_query = \"\"\"\n",
    "-- 특정 카운트 이하로만 등장하는 adid 테이블\n",
    "WITH filtered AS (\n",
    "    SELECT adid, \n",
    "           counts \n",
    "    FROM \n",
    "        (SELECT adid, count(*) counts \n",
    "        FROM sampledb.adtouch_table_{0} -- ITERATION: 월별 애드터치 데이터 \n",
    "        GROUP BY  adid ) \n",
    "\n",
    "    GROUP BY adid, counts \n",
    "    \n",
    "    HAVING counts <= APPROX_PERCENTILE(counts, {1})\n",
    ")\n",
    "\n",
    "\n",
    "-- 해당 adid에 포함되는 adid만 purchase 뽑기\n",
    "SELECT adid, server_datetime, evt_param_item_price * evt_param_item_quantity as amount\n",
    "\n",
    "FROM sampledb.events_table_{0} t1 -- ITERATION: 월별 이벤트 데이터\n",
    "WHERE event_name = 'abx:purchase'\n",
    "and EXISTS (\n",
    "  SELECT adid\n",
    "  FROM filtered t2\n",
    "  WHERE t1.adid = t2.adid\n",
    "  );\n",
    "\"\"\".format(yyyymm, percentile)\n",
    "\n",
    "union_query\n",
    "\n",
    "# df = cursor.execute(purchase_query).as_pandas()\n",
    "# print(df.head())"
   ]
  },
  {
   "cell_type": "code",
   "execution_count": null,
   "metadata": {},
   "outputs": [],
   "source": []
  }
 ],
 "metadata": {
  "kernelspec": {
   "display_name": "Python 3",
   "language": "python",
   "name": "python3"
  },
  "language_info": {
   "codemirror_mode": {
    "name": "ipython",
    "version": 3
   },
   "file_extension": ".py",
   "mimetype": "text/x-python",
   "name": "python",
   "nbconvert_exporter": "python",
   "pygments_lexer": "ipython3",
   "version": "3.6.5"
  }
 },
 "nbformat": 4,
 "nbformat_minor": 2
}
