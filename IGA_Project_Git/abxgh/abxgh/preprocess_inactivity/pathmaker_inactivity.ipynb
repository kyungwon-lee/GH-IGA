{
 "cells": [
  {
   "cell_type": "markdown",
   "metadata": {},
   "source": [
    "## Inactivity_time UNIT화 하기! 함수 만들기"
   ]
  },
  {
   "cell_type": "markdown",
   "metadata": {},
   "source": [
    "### input으로 받아야 할 것 : file이름, inactivity time을 직접 입력할 것인지 여부, 직접 한다면 어떤 값으로 할것인지? 비율로 입력한다면 몇 퍼센트?\n",
    "\n",
    "### output은 csv file이겠지유"
   ]
  },
  {
   "cell_type": "code",
   "execution_count": 6,
   "metadata": {},
   "outputs": [],
   "source": [
    "def pathmaker_inactivity(raw_data_name,result_data_name, inactivity_setting, inactivity_time, delete_abusing = False, abusing_threshold = 3):\n",
    "    import pandas as pd\n",
    "    import numpy as np\n",
    "    import datetime\n",
    "    \n",
    "    df = pd.read_csv(raw_data_name) ## filename은 'union_1908.csv' 이런 식이어야 한다!\n",
    "    \n",
    "#    df['partner_key'].fillna('null', inplace = True)\n",
    "    df['amount'].fillna(0, inplace = True)\n",
    "    \n",
    "    ##이 partner dic을 함수의 input으로 받을 것인지는 생각!!\n",
    "#    partner_dic = {'T1m2A6iwPUemMh5gQZ3FRA':'a', 'NGHO984OM0SciKycDGPmYA':'b', 'RK10BMLBB02TTT0G0GWMrg':'c', '0BChBVxZSUOhg3yJgn7o0A':'d', '41loF2NK40GBUzUBDC1Zrw':'e', 'o72f0c4oF0WMsPGvuIt5vQ':'f', 'null':'direct'}\n",
    "    \n",
    "#    for key, value in partner_dic.items():\n",
    "#        df.loc[df['partner_key'] == key, 'index'] = value\n",
    "      \n",
    "    df['datetime'] = pd.to_datetime(df['datetime'])\n",
    "    df['timediff'] = df.datetime.diff().dt.days*24*3600 + (df.datetime.diff().dt.seconds) #초로 바꿈 원래 시간이었는데 찬영오빠한테 최종 컨펌 필요\n",
    "    \n",
    "    id_dic = {}\n",
    "    for key, value in df.adid.items():\n",
    "        id_dic[value] = key+1\n",
    "    change = list(id_dic.values())[:-1]\n",
    "    \n",
    "    df.loc[change, 'timediff'] = np.nan\n",
    "    \n",
    "    ##inactivity_setting = 0 이면 비율로!! 1이면 사용자 직접 입력!\n",
    "    if inactivity_setting == 0:\n",
    "        inactivity = df.timediff.quantile(inactivity_time)\n",
    "        \n",
    "    elif inactivity_setting == 1:\n",
    "        inactivity = inactivity_time\n",
    "    else :\n",
    "        print(\"Your 'inactivity_setting' input is wrong. Please input 0 for ratio, 1 for direct input.\")\n",
    "    \n",
    "    \n",
    "    df['micro_session'] = 0\n",
    "    df['new_micro_session'] = 0\n",
    "\n",
    "    df.loc[0, 'micro_session'] = 1\n",
    "    \n",
    "    #조건 1.\n",
    "    df.loc[change, 'micro_session'] = 1\n",
    "    \n",
    "    #조건 2\n",
    "    purchase_change = list(map(lambda x: int(1) if x == \"abx:purchase\" else np.nan, list(df['event_name'])))\n",
    "    purchase_change = [i+1 for i in range(len(purchase_change)) if purchase_change[i] == 1]\n",
    "    if purchase_change[-1] == len(df):\n",
    "        purchase_change = purchase_change[:-1]\n",
    "    df.loc[purchase_change, 'micro_session'] = 1\n",
    "    \n",
    "    #조건 3.\n",
    "    timediff_change = list(map(lambda x: int(1) if x >= inactivity  else np.nan, list(df['timediff'])))\n",
    "    timediff_change = [i for i in range(len(timediff_change)) if timediff_change[i] == 1]\n",
    "    df.loc[timediff_change, 'micro_session'] = 1\n",
    "    \n",
    "    #delete abusing 이 True일 때, \n",
    "    if(delete_abusing == True):\n",
    "        #new micro session\n",
    "        minimum_time_change = list(map(lambda x: int(1) if x <= abusing_threshold else np.nan, list(df['timediff'])))\n",
    "        minimum_time_change = [i for i in range(len(minimum_time_change)) if minimum_time_change[i] == 1]\n",
    "        df.loc[minimum_time_change, 'new_micro_session'] = 1\n",
    "    \n",
    "    ms = list(df['micro_session'])\n",
    "    ns = list(df['new_micro_session'])\n",
    "    ix = list(df['partner_index'])\n",
    "    mt = list(df['amount'])\n",
    "\n",
    "    path = []\n",
    "    amount = []\n",
    "    for p, n, i, m in zip(ms, ns, ix, mt):\n",
    "        if p == 1:\n",
    "            path.append([i])\n",
    "            amount.append([m])\n",
    "        elif p == 0:\n",
    "            if deleting_abusing == True:\n",
    "                if n == 0:\n",
    "                    path[-1].append(i)\n",
    "                amount[-1].append(m)\n",
    "            else:\n",
    "                path[-1].append(i)\n",
    "                amount[-1].append(m)\n",
    "\n",
    "    path = ['>'.join(p) for p in path]\n",
    "    amount = [sum(m) for m in amount]\n",
    "    conversion = [1 if p.endswith('conv') else 0 for p in path]\n",
    "    null = [1 if c == 0 else 0 for c in conversion]\n",
    "\n",
    "    fin_df = pd.DataFrame({'path': path, 'total_conversions': conversion, 'total_conversion_value': amount, 'total_null': null})\n",
    "\n",
    "    pppp = [path[:-5] if '>conv' in path else path for path in list(fin_df['path'])]\n",
    "    \n",
    "    fin_df['path'] = pppp \n",
    "    fin_df2 = fin_df[fin_df.path !='conv']\n",
    "\n",
    "    fin_df2.to_csv(result_data_name, index = False)"
   ]
  },
  {
   "cell_type": "code",
   "execution_count": 7,
   "metadata": {},
   "outputs": [
    {
     "ename": "KeyError",
     "evalue": "'partner_index'",
     "output_type": "error",
     "traceback": [
      "\u001b[1;31m---------------------------------------------------------------------------\u001b[0m",
      "\u001b[1;31mKeyError\u001b[0m                                  Traceback (most recent call last)",
      "\u001b[1;32mc:\\users\\kw375\\appdata\\local\\programs\\python\\python36\\lib\\site-packages\\pandas\\core\\indexes\\base.py\u001b[0m in \u001b[0;36mget_loc\u001b[1;34m(self, key, method, tolerance)\u001b[0m\n\u001b[0;32m   2896\u001b[0m             \u001b[1;32mtry\u001b[0m\u001b[1;33m:\u001b[0m\u001b[1;33m\u001b[0m\u001b[1;33m\u001b[0m\u001b[0m\n\u001b[1;32m-> 2897\u001b[1;33m                 \u001b[1;32mreturn\u001b[0m \u001b[0mself\u001b[0m\u001b[1;33m.\u001b[0m\u001b[0m_engine\u001b[0m\u001b[1;33m.\u001b[0m\u001b[0mget_loc\u001b[0m\u001b[1;33m(\u001b[0m\u001b[0mkey\u001b[0m\u001b[1;33m)\u001b[0m\u001b[1;33m\u001b[0m\u001b[1;33m\u001b[0m\u001b[0m\n\u001b[0m\u001b[0;32m   2898\u001b[0m             \u001b[1;32mexcept\u001b[0m \u001b[0mKeyError\u001b[0m\u001b[1;33m:\u001b[0m\u001b[1;33m\u001b[0m\u001b[1;33m\u001b[0m\u001b[0m\n",
      "\u001b[1;32mpandas\\_libs\\index.pyx\u001b[0m in \u001b[0;36mpandas._libs.index.IndexEngine.get_loc\u001b[1;34m()\u001b[0m\n",
      "\u001b[1;32mpandas\\_libs\\index.pyx\u001b[0m in \u001b[0;36mpandas._libs.index.IndexEngine.get_loc\u001b[1;34m()\u001b[0m\n",
      "\u001b[1;32mpandas\\_libs\\hashtable_class_helper.pxi\u001b[0m in \u001b[0;36mpandas._libs.hashtable.PyObjectHashTable.get_item\u001b[1;34m()\u001b[0m\n",
      "\u001b[1;32mpandas\\_libs\\hashtable_class_helper.pxi\u001b[0m in \u001b[0;36mpandas._libs.hashtable.PyObjectHashTable.get_item\u001b[1;34m()\u001b[0m\n",
      "\u001b[1;31mKeyError\u001b[0m: 'partner_index'",
      "\nDuring handling of the above exception, another exception occurred:\n",
      "\u001b[1;31mKeyError\u001b[0m                                  Traceback (most recent call last)",
      "\u001b[1;32m<ipython-input-7-1664933dc4d3>\u001b[0m in \u001b[0;36m<module>\u001b[1;34m\u001b[0m\n\u001b[1;32m----> 1\u001b[1;33m \u001b[0mpathmaker_inactivity\u001b[0m\u001b[1;33m(\u001b[0m\u001b[1;34m'union_1908.csv'\u001b[0m\u001b[1;33m,\u001b[0m\u001b[1;34m'test.csv'\u001b[0m\u001b[1;33m,\u001b[0m \u001b[1;36m0\u001b[0m\u001b[1;33m,\u001b[0m \u001b[1;36m0.75\u001b[0m\u001b[1;33m)\u001b[0m\u001b[1;33m\u001b[0m\u001b[1;33m\u001b[0m\u001b[0m\n\u001b[0m",
      "\u001b[1;32m<ipython-input-6-9fec9bbbe5b5>\u001b[0m in \u001b[0;36mpathmaker_inactivity\u001b[1;34m(raw_data_name, result_data_name, inactivity_setting, inactivity_time, delete_abusing, abusing_threshold)\u001b[0m\n\u001b[0;32m     64\u001b[0m     \u001b[0mms\u001b[0m \u001b[1;33m=\u001b[0m \u001b[0mlist\u001b[0m\u001b[1;33m(\u001b[0m\u001b[0mdf\u001b[0m\u001b[1;33m[\u001b[0m\u001b[1;34m'micro_session'\u001b[0m\u001b[1;33m]\u001b[0m\u001b[1;33m)\u001b[0m\u001b[1;33m\u001b[0m\u001b[1;33m\u001b[0m\u001b[0m\n\u001b[0;32m     65\u001b[0m     \u001b[0mns\u001b[0m \u001b[1;33m=\u001b[0m \u001b[0mlist\u001b[0m\u001b[1;33m(\u001b[0m\u001b[0mdf\u001b[0m\u001b[1;33m[\u001b[0m\u001b[1;34m'new_micro_session'\u001b[0m\u001b[1;33m]\u001b[0m\u001b[1;33m)\u001b[0m\u001b[1;33m\u001b[0m\u001b[1;33m\u001b[0m\u001b[0m\n\u001b[1;32m---> 66\u001b[1;33m     \u001b[0mix\u001b[0m \u001b[1;33m=\u001b[0m \u001b[0mlist\u001b[0m\u001b[1;33m(\u001b[0m\u001b[0mdf\u001b[0m\u001b[1;33m[\u001b[0m\u001b[1;34m'partner_index'\u001b[0m\u001b[1;33m]\u001b[0m\u001b[1;33m)\u001b[0m\u001b[1;33m\u001b[0m\u001b[1;33m\u001b[0m\u001b[0m\n\u001b[0m\u001b[0;32m     67\u001b[0m     \u001b[0mmt\u001b[0m \u001b[1;33m=\u001b[0m \u001b[0mlist\u001b[0m\u001b[1;33m(\u001b[0m\u001b[0mdf\u001b[0m\u001b[1;33m[\u001b[0m\u001b[1;34m'amount'\u001b[0m\u001b[1;33m]\u001b[0m\u001b[1;33m)\u001b[0m\u001b[1;33m\u001b[0m\u001b[1;33m\u001b[0m\u001b[0m\n\u001b[0;32m     68\u001b[0m \u001b[1;33m\u001b[0m\u001b[0m\n",
      "\u001b[1;32mc:\\users\\kw375\\appdata\\local\\programs\\python\\python36\\lib\\site-packages\\pandas\\core\\frame.py\u001b[0m in \u001b[0;36m__getitem__\u001b[1;34m(self, key)\u001b[0m\n\u001b[0;32m   2978\u001b[0m             \u001b[1;32mif\u001b[0m \u001b[0mself\u001b[0m\u001b[1;33m.\u001b[0m\u001b[0mcolumns\u001b[0m\u001b[1;33m.\u001b[0m\u001b[0mnlevels\u001b[0m \u001b[1;33m>\u001b[0m \u001b[1;36m1\u001b[0m\u001b[1;33m:\u001b[0m\u001b[1;33m\u001b[0m\u001b[1;33m\u001b[0m\u001b[0m\n\u001b[0;32m   2979\u001b[0m                 \u001b[1;32mreturn\u001b[0m \u001b[0mself\u001b[0m\u001b[1;33m.\u001b[0m\u001b[0m_getitem_multilevel\u001b[0m\u001b[1;33m(\u001b[0m\u001b[0mkey\u001b[0m\u001b[1;33m)\u001b[0m\u001b[1;33m\u001b[0m\u001b[1;33m\u001b[0m\u001b[0m\n\u001b[1;32m-> 2980\u001b[1;33m             \u001b[0mindexer\u001b[0m \u001b[1;33m=\u001b[0m \u001b[0mself\u001b[0m\u001b[1;33m.\u001b[0m\u001b[0mcolumns\u001b[0m\u001b[1;33m.\u001b[0m\u001b[0mget_loc\u001b[0m\u001b[1;33m(\u001b[0m\u001b[0mkey\u001b[0m\u001b[1;33m)\u001b[0m\u001b[1;33m\u001b[0m\u001b[1;33m\u001b[0m\u001b[0m\n\u001b[0m\u001b[0;32m   2981\u001b[0m             \u001b[1;32mif\u001b[0m \u001b[0mis_integer\u001b[0m\u001b[1;33m(\u001b[0m\u001b[0mindexer\u001b[0m\u001b[1;33m)\u001b[0m\u001b[1;33m:\u001b[0m\u001b[1;33m\u001b[0m\u001b[1;33m\u001b[0m\u001b[0m\n\u001b[0;32m   2982\u001b[0m                 \u001b[0mindexer\u001b[0m \u001b[1;33m=\u001b[0m \u001b[1;33m[\u001b[0m\u001b[0mindexer\u001b[0m\u001b[1;33m]\u001b[0m\u001b[1;33m\u001b[0m\u001b[1;33m\u001b[0m\u001b[0m\n",
      "\u001b[1;32mc:\\users\\kw375\\appdata\\local\\programs\\python\\python36\\lib\\site-packages\\pandas\\core\\indexes\\base.py\u001b[0m in \u001b[0;36mget_loc\u001b[1;34m(self, key, method, tolerance)\u001b[0m\n\u001b[0;32m   2897\u001b[0m                 \u001b[1;32mreturn\u001b[0m \u001b[0mself\u001b[0m\u001b[1;33m.\u001b[0m\u001b[0m_engine\u001b[0m\u001b[1;33m.\u001b[0m\u001b[0mget_loc\u001b[0m\u001b[1;33m(\u001b[0m\u001b[0mkey\u001b[0m\u001b[1;33m)\u001b[0m\u001b[1;33m\u001b[0m\u001b[1;33m\u001b[0m\u001b[0m\n\u001b[0;32m   2898\u001b[0m             \u001b[1;32mexcept\u001b[0m \u001b[0mKeyError\u001b[0m\u001b[1;33m:\u001b[0m\u001b[1;33m\u001b[0m\u001b[1;33m\u001b[0m\u001b[0m\n\u001b[1;32m-> 2899\u001b[1;33m                 \u001b[1;32mreturn\u001b[0m \u001b[0mself\u001b[0m\u001b[1;33m.\u001b[0m\u001b[0m_engine\u001b[0m\u001b[1;33m.\u001b[0m\u001b[0mget_loc\u001b[0m\u001b[1;33m(\u001b[0m\u001b[0mself\u001b[0m\u001b[1;33m.\u001b[0m\u001b[0m_maybe_cast_indexer\u001b[0m\u001b[1;33m(\u001b[0m\u001b[0mkey\u001b[0m\u001b[1;33m)\u001b[0m\u001b[1;33m)\u001b[0m\u001b[1;33m\u001b[0m\u001b[1;33m\u001b[0m\u001b[0m\n\u001b[0m\u001b[0;32m   2900\u001b[0m         \u001b[0mindexer\u001b[0m \u001b[1;33m=\u001b[0m \u001b[0mself\u001b[0m\u001b[1;33m.\u001b[0m\u001b[0mget_indexer\u001b[0m\u001b[1;33m(\u001b[0m\u001b[1;33m[\u001b[0m\u001b[0mkey\u001b[0m\u001b[1;33m]\u001b[0m\u001b[1;33m,\u001b[0m \u001b[0mmethod\u001b[0m\u001b[1;33m=\u001b[0m\u001b[0mmethod\u001b[0m\u001b[1;33m,\u001b[0m \u001b[0mtolerance\u001b[0m\u001b[1;33m=\u001b[0m\u001b[0mtolerance\u001b[0m\u001b[1;33m)\u001b[0m\u001b[1;33m\u001b[0m\u001b[1;33m\u001b[0m\u001b[0m\n\u001b[0;32m   2901\u001b[0m         \u001b[1;32mif\u001b[0m \u001b[0mindexer\u001b[0m\u001b[1;33m.\u001b[0m\u001b[0mndim\u001b[0m \u001b[1;33m>\u001b[0m \u001b[1;36m1\u001b[0m \u001b[1;32mor\u001b[0m \u001b[0mindexer\u001b[0m\u001b[1;33m.\u001b[0m\u001b[0msize\u001b[0m \u001b[1;33m>\u001b[0m \u001b[1;36m1\u001b[0m\u001b[1;33m:\u001b[0m\u001b[1;33m\u001b[0m\u001b[1;33m\u001b[0m\u001b[0m\n",
      "\u001b[1;32mpandas\\_libs\\index.pyx\u001b[0m in \u001b[0;36mpandas._libs.index.IndexEngine.get_loc\u001b[1;34m()\u001b[0m\n",
      "\u001b[1;32mpandas\\_libs\\index.pyx\u001b[0m in \u001b[0;36mpandas._libs.index.IndexEngine.get_loc\u001b[1;34m()\u001b[0m\n",
      "\u001b[1;32mpandas\\_libs\\hashtable_class_helper.pxi\u001b[0m in \u001b[0;36mpandas._libs.hashtable.PyObjectHashTable.get_item\u001b[1;34m()\u001b[0m\n",
      "\u001b[1;32mpandas\\_libs\\hashtable_class_helper.pxi\u001b[0m in \u001b[0;36mpandas._libs.hashtable.PyObjectHashTable.get_item\u001b[1;34m()\u001b[0m\n",
      "\u001b[1;31mKeyError\u001b[0m: 'partner_index'"
     ]
    }
   ],
   "source": [
    "pathmaker_inactivity('union_1908.csv','test.csv', 0, 0.75)"
   ]
  },
  {
   "cell_type": "code",
   "execution_count": null,
   "metadata": {},
   "outputs": [],
   "source": []
  }
 ],
 "metadata": {
  "kernelspec": {
   "display_name": "Python 3",
   "language": "python",
   "name": "python3"
  },
  "language_info": {
   "codemirror_mode": {
    "name": "ipython",
    "version": 3
   },
   "file_extension": ".py",
   "mimetype": "text/x-python",
   "name": "python",
   "nbconvert_exporter": "python",
   "pygments_lexer": "ipython3",
   "version": "3.6.8"
  }
 },
 "nbformat": 4,
 "nbformat_minor": 2
}
