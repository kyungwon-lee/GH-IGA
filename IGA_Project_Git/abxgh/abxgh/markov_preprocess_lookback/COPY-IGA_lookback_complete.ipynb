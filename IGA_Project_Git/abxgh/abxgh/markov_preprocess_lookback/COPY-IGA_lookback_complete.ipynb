{
 "cells": [
  {
   "cell_type": "code",
   "execution_count": 1,
   "metadata": {},
   "outputs": [],
   "source": [
    "# 필요한 라이브러리를 가져오자.\n",
    "# numpy, pandas\n",
    "import numpy as np\n",
    "import pandas as pd"
   ]
  },
  {
   "cell_type": "code",
   "execution_count": 2,
   "metadata": {},
   "outputs": [],
   "source": [
    "import datetime\n",
    "def make_datetime(row):\n",
    "    return datetime.datetime.strptime(row, '%Y-%m-%d %H:%M:%S.%f')"
   ]
  },
  {
   "cell_type": "code",
   "execution_count": 3,
   "metadata": {},
   "outputs": [],
   "source": [
    "from tqdm import tqdm\n",
    "from tqdm import tqdm_notebook"
   ]
  },
  {
   "cell_type": "code",
   "execution_count": 4,
   "metadata": {},
   "outputs": [],
   "source": [
    "df = pd.read_csv('lookback_data.csv')"
   ]
  },
  {
   "cell_type": "code",
   "execution_count": 5,
   "metadata": {},
   "outputs": [
    {
     "data": {
      "text/html": [
       "<div>\n",
       "<style scoped>\n",
       "    .dataframe tbody tr th:only-of-type {\n",
       "        vertical-align: middle;\n",
       "    }\n",
       "\n",
       "    .dataframe tbody tr th {\n",
       "        vertical-align: top;\n",
       "    }\n",
       "\n",
       "    .dataframe thead th {\n",
       "        text-align: right;\n",
       "    }\n",
       "</style>\n",
       "<table border=\"1\" class=\"dataframe\">\n",
       "  <thead>\n",
       "    <tr style=\"text-align: right;\">\n",
       "      <th></th>\n",
       "      <th>adid</th>\n",
       "      <th>datetime</th>\n",
       "      <th>partner_key</th>\n",
       "      <th>event_name</th>\n",
       "      <th>amount</th>\n",
       "      <th>partner_index</th>\n",
       "    </tr>\n",
       "  </thead>\n",
       "  <tbody>\n",
       "    <tr>\n",
       "      <th>0</th>\n",
       "      <td>0000a0276a0870de648c427edb012cba</td>\n",
       "      <td>2019-08-09 22:07:30.754</td>\n",
       "      <td>41loF2NK40GBUzUBDC1Zrw</td>\n",
       "      <td>NaN</td>\n",
       "      <td>NaN</td>\n",
       "      <td>e</td>\n",
       "    </tr>\n",
       "    <tr>\n",
       "      <th>1</th>\n",
       "      <td>0000a0276a0870de648c427edb012cba</td>\n",
       "      <td>2019-08-17 22:09:41.193</td>\n",
       "      <td>41loF2NK40GBUzUBDC1Zrw</td>\n",
       "      <td>NaN</td>\n",
       "      <td>NaN</td>\n",
       "      <td>e</td>\n",
       "    </tr>\n",
       "    <tr>\n",
       "      <th>2</th>\n",
       "      <td>0000ae28e29e570fd4cd3d1229b89ec2</td>\n",
       "      <td>2019-08-26 05:48:17.865</td>\n",
       "      <td>0BChBVxZSUOhg3yJgn7o0A</td>\n",
       "      <td>NaN</td>\n",
       "      <td>NaN</td>\n",
       "      <td>d</td>\n",
       "    </tr>\n",
       "    <tr>\n",
       "      <th>3</th>\n",
       "      <td>0000be453b034a699e09ba7ec1046fbf</td>\n",
       "      <td>2019-08-31 00:18:02.977</td>\n",
       "      <td>0BChBVxZSUOhg3yJgn7o0A</td>\n",
       "      <td>NaN</td>\n",
       "      <td>NaN</td>\n",
       "      <td>d</td>\n",
       "    </tr>\n",
       "    <tr>\n",
       "      <th>4</th>\n",
       "      <td>0001b3b01a0e9adfdfab4279212c4f2c</td>\n",
       "      <td>2019-08-13 14:09:15.755</td>\n",
       "      <td>T1m2A6iwPUemMh5gQZ3FRA</td>\n",
       "      <td>NaN</td>\n",
       "      <td>NaN</td>\n",
       "      <td>a</td>\n",
       "    </tr>\n",
       "  </tbody>\n",
       "</table>\n",
       "</div>"
      ],
      "text/plain": [
       "                               adid                 datetime  \\\n",
       "0  0000a0276a0870de648c427edb012cba  2019-08-09 22:07:30.754   \n",
       "1  0000a0276a0870de648c427edb012cba  2019-08-17 22:09:41.193   \n",
       "2  0000ae28e29e570fd4cd3d1229b89ec2  2019-08-26 05:48:17.865   \n",
       "3  0000be453b034a699e09ba7ec1046fbf  2019-08-31 00:18:02.977   \n",
       "4  0001b3b01a0e9adfdfab4279212c4f2c  2019-08-13 14:09:15.755   \n",
       "\n",
       "              partner_key event_name  amount partner_index  \n",
       "0  41loF2NK40GBUzUBDC1Zrw        NaN     NaN             e  \n",
       "1  41loF2NK40GBUzUBDC1Zrw        NaN     NaN             e  \n",
       "2  0BChBVxZSUOhg3yJgn7o0A        NaN     NaN             d  \n",
       "3  0BChBVxZSUOhg3yJgn7o0A        NaN     NaN             d  \n",
       "4  T1m2A6iwPUemMh5gQZ3FRA        NaN     NaN             a  "
      ]
     },
     "execution_count": 5,
     "metadata": {},
     "output_type": "execute_result"
    }
   ],
   "source": [
    "df.head()"
   ]
  },
  {
   "cell_type": "code",
   "execution_count": 6,
   "metadata": {},
   "outputs": [],
   "source": [
    "#기여한 곳 : 1, 기여하지 않은 곳 : 0 을 각각 표시해주기 위한 column인 contributed를 추가하고, 0으로 초기화\n",
    "df['contributed']=0"
   ]
  },
  {
   "cell_type": "code",
   "execution_count": 7,
   "metadata": {},
   "outputs": [],
   "source": [
    "#이제 datetime 열의 내용들은 string이 아니라 datetime object가 되어 연산이 빨라짐.\n",
    "df['datetime'] = df['datetime'].apply(make_datetime)"
   ]
  },
  {
   "cell_type": "code",
   "execution_count": 8,
   "metadata": {
    "collapsed": true
   },
   "outputs": [
    {
     "name": "stderr",
     "output_type": "stream",
     "text": [
      "/usr/local/lib/python3.6/site-packages/ipykernel_launcher.py:1: TqdmDeprecationWarning: This function will be removed in tqdm==5.0.0\n",
      "Please use `tqdm.notebook.tqdm` instead of `tqdm.tqdm_notebook`\n",
      "  \"\"\"Entry point for launching an IPython kernel.\n"
     ]
    },
    {
     "data": {
      "application/vnd.jupyter.widget-view+json": {
       "model_id": "71f04a639ebe4a25bc83966dc29f9754",
       "version_major": 2,
       "version_minor": 0
      },
      "text/plain": [
       "HBox(children=(IntProgress(value=0, max=873558), HTML(value='')))"
      ]
     },
     "metadata": {},
     "output_type": "display_data"
    },
    {
     "name": "stderr",
     "output_type": "stream",
     "text": [
      "/usr/local/lib/python3.6/site-packages/ipykernel_launcher.py:6: SettingWithCopyWarning: \n",
      "A value is trying to be set on a copy of a slice from a DataFrame\n",
      "\n",
      "See the caveats in the documentation: http://pandas.pydata.org/pandas-docs/stable/indexing.html#indexing-view-versus-copy\n",
      "  \n",
      "/usr/local/lib/python3.6/site-packages/ipykernel_launcher.py:10: SettingWithCopyWarning: \n",
      "A value is trying to be set on a copy of a slice from a DataFrame\n",
      "\n",
      "See the caveats in the documentation: http://pandas.pydata.org/pandas-docs/stable/indexing.html#indexing-view-versus-copy\n",
      "  # Remove the CWD from sys.path while we load stuff.\n"
     ]
    },
    {
     "ename": "KeyboardInterrupt",
     "evalue": "",
     "output_type": "error",
     "traceback": [
      "\u001b[0;31m---------------------------------------------------------------------------\u001b[0m",
      "\u001b[0;31mKeyboardInterrupt\u001b[0m                         Traceback (most recent call last)",
      "\u001b[0;32m<ipython-input-8-a8b6766a4dd6>\u001b[0m in \u001b[0;36m<module>\u001b[0;34m\u001b[0m\n\u001b[1;32m      8\u001b[0m             \u001b[0;32mif\u001b[0m\u001b[0;34m(\u001b[0m\u001b[0mstandard_adid\u001b[0m\u001b[0;34m==\u001b[0m\u001b[0mdf\u001b[0m\u001b[0;34m[\u001b[0m\u001b[0;34m'adid'\u001b[0m\u001b[0;34m]\u001b[0m\u001b[0;34m[\u001b[0m\u001b[0mtmp_index\u001b[0m\u001b[0;34m]\u001b[0m\u001b[0;34m)\u001b[0m\u001b[0;34m:\u001b[0m\u001b[0;34m\u001b[0m\u001b[0m\n\u001b[1;32m      9\u001b[0m                 \u001b[0;32mif\u001b[0m\u001b[0;34m(\u001b[0m\u001b[0;34m(\u001b[0m\u001b[0mstandard_datetime\u001b[0m\u001b[0;34m-\u001b[0m\u001b[0mdf\u001b[0m\u001b[0;34m[\u001b[0m\u001b[0;34m'datetime'\u001b[0m\u001b[0;34m]\u001b[0m\u001b[0;34m[\u001b[0m\u001b[0mtmp_index\u001b[0m\u001b[0;34m]\u001b[0m\u001b[0;34m)\u001b[0m\u001b[0;34m.\u001b[0m\u001b[0mtotal_seconds\u001b[0m\u001b[0;34m(\u001b[0m\u001b[0;34m)\u001b[0m\u001b[0;34m<\u001b[0m\u001b[0;36m259200\u001b[0m\u001b[0;34m)\u001b[0m\u001b[0;34m:\u001b[0m\u001b[0;34m\u001b[0m\u001b[0m\n\u001b[0;32m---> 10\u001b[0;31m                     \u001b[0mdf\u001b[0m\u001b[0;34m[\u001b[0m\u001b[0;34m'contributed'\u001b[0m\u001b[0;34m]\u001b[0m\u001b[0;34m[\u001b[0m\u001b[0mtmp_index\u001b[0m\u001b[0;34m]\u001b[0m \u001b[0;34m=\u001b[0m \u001b[0;36m1\u001b[0m\u001b[0;34m\u001b[0m\u001b[0m\n\u001b[0m\u001b[1;32m     11\u001b[0m                 \u001b[0;32melse\u001b[0m\u001b[0;34m:\u001b[0m\u001b[0;34m\u001b[0m\u001b[0m\n\u001b[1;32m     12\u001b[0m                     \u001b[0;32mbreak\u001b[0m\u001b[0;34m;\u001b[0m\u001b[0;34m\u001b[0m\u001b[0m\n",
      "\u001b[0;32m/usr/local/lib/python3.6/site-packages/pandas/core/series.py\u001b[0m in \u001b[0;36m__setitem__\u001b[0;34m(self, key, value)\u001b[0m\n\u001b[1;32m   1036\u001b[0m \u001b[0;34m\u001b[0m\u001b[0m\n\u001b[1;32m   1037\u001b[0m         \u001b[0;31m# do the setitem\u001b[0m\u001b[0;34m\u001b[0m\u001b[0;34m\u001b[0m\u001b[0m\n\u001b[0;32m-> 1038\u001b[0;31m         \u001b[0mcacher_needs_updating\u001b[0m \u001b[0;34m=\u001b[0m \u001b[0mself\u001b[0m\u001b[0;34m.\u001b[0m\u001b[0m_check_is_chained_assignment_possible\u001b[0m\u001b[0;34m(\u001b[0m\u001b[0;34m)\u001b[0m\u001b[0;34m\u001b[0m\u001b[0m\n\u001b[0m\u001b[1;32m   1039\u001b[0m         \u001b[0msetitem\u001b[0m\u001b[0;34m(\u001b[0m\u001b[0mkey\u001b[0m\u001b[0;34m,\u001b[0m \u001b[0mvalue\u001b[0m\u001b[0;34m)\u001b[0m\u001b[0;34m\u001b[0m\u001b[0m\n\u001b[1;32m   1040\u001b[0m         \u001b[0;32mif\u001b[0m \u001b[0mcacher_needs_updating\u001b[0m\u001b[0;34m:\u001b[0m\u001b[0;34m\u001b[0m\u001b[0m\n",
      "\u001b[0;32m/usr/local/lib/python3.6/site-packages/pandas/core/generic.py\u001b[0m in \u001b[0;36m_check_is_chained_assignment_possible\u001b[0;34m(self)\u001b[0m\n\u001b[1;32m   3187\u001b[0m             \u001b[0;32mif\u001b[0m \u001b[0mref\u001b[0m \u001b[0;32mis\u001b[0m \u001b[0;32mnot\u001b[0m \u001b[0;32mNone\u001b[0m \u001b[0;32mand\u001b[0m \u001b[0mref\u001b[0m\u001b[0;34m.\u001b[0m\u001b[0m_is_mixed_type\u001b[0m\u001b[0;34m:\u001b[0m\u001b[0;34m\u001b[0m\u001b[0m\n\u001b[1;32m   3188\u001b[0m                 self._check_setitem_copy(stacklevel=4, t='referant',\n\u001b[0;32m-> 3189\u001b[0;31m                                          force=True)\n\u001b[0m\u001b[1;32m   3190\u001b[0m             \u001b[0;32mreturn\u001b[0m \u001b[0;32mTrue\u001b[0m\u001b[0;34m\u001b[0m\u001b[0m\n\u001b[1;32m   3191\u001b[0m         \u001b[0;32melif\u001b[0m \u001b[0mself\u001b[0m\u001b[0;34m.\u001b[0m\u001b[0m_is_copy\u001b[0m\u001b[0;34m:\u001b[0m\u001b[0;34m\u001b[0m\u001b[0m\n",
      "\u001b[0;32m/usr/local/lib/python3.6/site-packages/pandas/core/generic.py\u001b[0m in \u001b[0;36m_check_setitem_copy\u001b[0;34m(self, stacklevel, t, force)\u001b[0m\n\u001b[1;32m   3233\u001b[0m             \u001b[0;31m# the copy weakref\u001b[0m\u001b[0;34m\u001b[0m\u001b[0;34m\u001b[0m\u001b[0m\n\u001b[1;32m   3234\u001b[0m             \u001b[0;32mtry\u001b[0m\u001b[0;34m:\u001b[0m\u001b[0;34m\u001b[0m\u001b[0m\n\u001b[0;32m-> 3235\u001b[0;31m                 \u001b[0mgc\u001b[0m\u001b[0;34m.\u001b[0m\u001b[0mcollect\u001b[0m\u001b[0;34m(\u001b[0m\u001b[0;36m2\u001b[0m\u001b[0;34m)\u001b[0m\u001b[0;34m\u001b[0m\u001b[0m\n\u001b[0m\u001b[1;32m   3236\u001b[0m                 \u001b[0;32mif\u001b[0m \u001b[0;32mnot\u001b[0m \u001b[0mgc\u001b[0m\u001b[0;34m.\u001b[0m\u001b[0mget_referents\u001b[0m\u001b[0;34m(\u001b[0m\u001b[0mself\u001b[0m\u001b[0;34m.\u001b[0m\u001b[0m_is_copy\u001b[0m\u001b[0;34m(\u001b[0m\u001b[0;34m)\u001b[0m\u001b[0;34m)\u001b[0m\u001b[0;34m:\u001b[0m\u001b[0;34m\u001b[0m\u001b[0m\n\u001b[1;32m   3237\u001b[0m                     \u001b[0mself\u001b[0m\u001b[0;34m.\u001b[0m\u001b[0m_is_copy\u001b[0m \u001b[0;34m=\u001b[0m \u001b[0;32mNone\u001b[0m\u001b[0;34m\u001b[0m\u001b[0m\n",
      "\u001b[0;31mKeyboardInterrupt\u001b[0m: "
     ]
    }
   ],
   "source": [
    "for index in tqdm_notebook(df.index):\n",
    "    # partner_index가 conv인 놈을 찾아서\n",
    "    if(df['partner_index'][index]=='conv'):\n",
    "        \n",
    "        standard_adid = df['adid'][index] # 기준이 되는 adid\n",
    "        standard_datetime = df['datetime'][index] # 기준이 되는 datetime\n",
    "        \n",
    "        tmp_index = index-1 # 앵커 인덱스\n",
    "        df['contributed'][index]=1\n",
    "        \n",
    "        while(True): # tmp index에 대한 iteration\n",
    "            if(standard_adid==df['adid'][tmp_index]): # 동일한 애드아이디\n",
    "                if((standard_datetime-df['datetime'][tmp_index]).total_seconds()<259200): # 룩백윈도우 이내\n",
    "                    df['contributed'][tmp_index] = 1 # --> contributed 추가\n",
    "                else:\n",
    "                    break; # datetime 조건 break\n",
    "            else:\n",
    "                break # adid 조건 break\n",
    "                \n",
    "            tmp_index = tmp_index - 1"
   ]
  },
  {
   "cell_type": "markdown",
   "metadata": {},
   "source": [
    "## 코드 리팩토링"
   ]
  },
  {
   "cell_type": "code",
   "execution_count": 9,
   "metadata": {},
   "outputs": [
    {
     "data": {
      "text/html": [
       "<div>\n",
       "<style scoped>\n",
       "    .dataframe tbody tr th:only-of-type {\n",
       "        vertical-align: middle;\n",
       "    }\n",
       "\n",
       "    .dataframe tbody tr th {\n",
       "        vertical-align: top;\n",
       "    }\n",
       "\n",
       "    .dataframe thead th {\n",
       "        text-align: right;\n",
       "    }\n",
       "</style>\n",
       "<table border=\"1\" class=\"dataframe\">\n",
       "  <thead>\n",
       "    <tr style=\"text-align: right;\">\n",
       "      <th></th>\n",
       "      <th>adid</th>\n",
       "      <th>datetime</th>\n",
       "      <th>partner_key</th>\n",
       "      <th>event_name</th>\n",
       "      <th>amount</th>\n",
       "      <th>partner_index</th>\n",
       "      <th>contributed</th>\n",
       "    </tr>\n",
       "  </thead>\n",
       "  <tbody>\n",
       "    <tr>\n",
       "      <th>0</th>\n",
       "      <td>0000a0276a0870de648c427edb012cba</td>\n",
       "      <td>2019-08-09 22:07:30.754</td>\n",
       "      <td>41loF2NK40GBUzUBDC1Zrw</td>\n",
       "      <td>NaN</td>\n",
       "      <td>NaN</td>\n",
       "      <td>e</td>\n",
       "      <td>0</td>\n",
       "    </tr>\n",
       "    <tr>\n",
       "      <th>1</th>\n",
       "      <td>0000a0276a0870de648c427edb012cba</td>\n",
       "      <td>2019-08-17 22:09:41.193</td>\n",
       "      <td>41loF2NK40GBUzUBDC1Zrw</td>\n",
       "      <td>NaN</td>\n",
       "      <td>NaN</td>\n",
       "      <td>e</td>\n",
       "      <td>0</td>\n",
       "    </tr>\n",
       "    <tr>\n",
       "      <th>2</th>\n",
       "      <td>0000ae28e29e570fd4cd3d1229b89ec2</td>\n",
       "      <td>2019-08-26 05:48:17.865</td>\n",
       "      <td>0BChBVxZSUOhg3yJgn7o0A</td>\n",
       "      <td>NaN</td>\n",
       "      <td>NaN</td>\n",
       "      <td>d</td>\n",
       "      <td>0</td>\n",
       "    </tr>\n",
       "    <tr>\n",
       "      <th>3</th>\n",
       "      <td>0000be453b034a699e09ba7ec1046fbf</td>\n",
       "      <td>2019-08-31 00:18:02.977</td>\n",
       "      <td>0BChBVxZSUOhg3yJgn7o0A</td>\n",
       "      <td>NaN</td>\n",
       "      <td>NaN</td>\n",
       "      <td>d</td>\n",
       "      <td>0</td>\n",
       "    </tr>\n",
       "    <tr>\n",
       "      <th>4</th>\n",
       "      <td>0001b3b01a0e9adfdfab4279212c4f2c</td>\n",
       "      <td>2019-08-13 14:09:15.755</td>\n",
       "      <td>T1m2A6iwPUemMh5gQZ3FRA</td>\n",
       "      <td>NaN</td>\n",
       "      <td>NaN</td>\n",
       "      <td>a</td>\n",
       "      <td>0</td>\n",
       "    </tr>\n",
       "  </tbody>\n",
       "</table>\n",
       "</div>"
      ],
      "text/plain": [
       "                               adid                datetime  \\\n",
       "0  0000a0276a0870de648c427edb012cba 2019-08-09 22:07:30.754   \n",
       "1  0000a0276a0870de648c427edb012cba 2019-08-17 22:09:41.193   \n",
       "2  0000ae28e29e570fd4cd3d1229b89ec2 2019-08-26 05:48:17.865   \n",
       "3  0000be453b034a699e09ba7ec1046fbf 2019-08-31 00:18:02.977   \n",
       "4  0001b3b01a0e9adfdfab4279212c4f2c 2019-08-13 14:09:15.755   \n",
       "\n",
       "              partner_key event_name  amount partner_index  contributed  \n",
       "0  41loF2NK40GBUzUBDC1Zrw        NaN     NaN             e            0  \n",
       "1  41loF2NK40GBUzUBDC1Zrw        NaN     NaN             e            0  \n",
       "2  0BChBVxZSUOhg3yJgn7o0A        NaN     NaN             d            0  \n",
       "3  0BChBVxZSUOhg3yJgn7o0A        NaN     NaN             d            0  \n",
       "4  T1m2A6iwPUemMh5gQZ3FRA        NaN     NaN             a            0  "
      ]
     },
     "execution_count": 9,
     "metadata": {},
     "output_type": "execute_result"
    }
   ],
   "source": [
    "tmpdf = df.loc[:500,:].copy()\n",
    "tmpdf.head()"
   ]
  },
  {
   "cell_type": "code",
   "execution_count": 10,
   "metadata": {},
   "outputs": [],
   "source": [
    "def in_window(seconds, start, end):\n",
    "    return (start-end).total_seconds() < seconds"
   ]
  },
  {
   "cell_type": "code",
   "execution_count": 28,
   "metadata": {
    "collapsed": true
   },
   "outputs": [
    {
     "ename": "TypeError",
     "evalue": "category, object, and string subtypes are not supported for IntervalIndex",
     "output_type": "error",
     "traceback": [
      "\u001b[0;31m---------------------------------------------------------------------------\u001b[0m",
      "\u001b[0;31mTypeError\u001b[0m                                 Traceback (most recent call last)",
      "\u001b[0;32m<ipython-input-28-a73612734fe1>\u001b[0m in \u001b[0;36m<module>\u001b[0;34m\u001b[0m\n\u001b[1;32m      5\u001b[0m         \u001b[0;32mcontinue\u001b[0m \u001b[0;31m# 해당 adid의 group 건너뛰기\u001b[0m\u001b[0;34m\u001b[0m\u001b[0m\n\u001b[1;32m      6\u001b[0m \u001b[0;34m\u001b[0m\u001b[0m\n\u001b[0;32m----> 7\u001b[0;31m     \u001b[0mpd\u001b[0m\u001b[0;34m.\u001b[0m\u001b[0mcut\u001b[0m\u001b[0;34m(\u001b[0m\u001b[0mgroup\u001b[0m\u001b[0;34m.\u001b[0m\u001b[0mdatetime\u001b[0m\u001b[0;34m,\u001b[0m \u001b[0mevents\u001b[0m\u001b[0;34m)\u001b[0m\u001b[0;34m\u001b[0m\u001b[0m\n\u001b[0m\u001b[1;32m      8\u001b[0m     \u001b[0;32mbreak\u001b[0m\u001b[0;34m\u001b[0m\u001b[0m\n",
      "\u001b[0;32m/usr/local/lib/python3.6/site-packages/pandas/core/reshape/tile.py\u001b[0m in \u001b[0;36mcut\u001b[0;34m(x, bins, right, labels, retbins, precision, include_lowest, duplicates)\u001b[0m\n\u001b[1;32m    239\u001b[0m                               \u001b[0minclude_lowest\u001b[0m\u001b[0;34m=\u001b[0m\u001b[0minclude_lowest\u001b[0m\u001b[0;34m,\u001b[0m\u001b[0;34m\u001b[0m\u001b[0m\n\u001b[1;32m    240\u001b[0m                               \u001b[0mdtype\u001b[0m\u001b[0;34m=\u001b[0m\u001b[0mdtype\u001b[0m\u001b[0;34m,\u001b[0m\u001b[0;34m\u001b[0m\u001b[0m\n\u001b[0;32m--> 241\u001b[0;31m                               duplicates=duplicates)\n\u001b[0m\u001b[1;32m    242\u001b[0m \u001b[0;34m\u001b[0m\u001b[0m\n\u001b[1;32m    243\u001b[0m     return _postprocess_for_cut(fac, bins, retbins, x_is_series,\n",
      "\u001b[0;32m/usr/local/lib/python3.6/site-packages/pandas/core/reshape/tile.py\u001b[0m in \u001b[0;36m_bins_to_cuts\u001b[0;34m(x, bins, right, labels, precision, include_lowest, dtype, duplicates)\u001b[0m\n\u001b[1;32m    354\u001b[0m             labels = _format_labels(bins, precision, right=right,\n\u001b[1;32m    355\u001b[0m                                     \u001b[0minclude_lowest\u001b[0m\u001b[0;34m=\u001b[0m\u001b[0minclude_lowest\u001b[0m\u001b[0;34m,\u001b[0m\u001b[0;34m\u001b[0m\u001b[0m\n\u001b[0;32m--> 356\u001b[0;31m                                     dtype=dtype)\n\u001b[0m\u001b[1;32m    357\u001b[0m         \u001b[0;32melse\u001b[0m\u001b[0;34m:\u001b[0m\u001b[0;34m\u001b[0m\u001b[0m\n\u001b[1;32m    358\u001b[0m             \u001b[0;32mif\u001b[0m \u001b[0mlen\u001b[0m\u001b[0;34m(\u001b[0m\u001b[0mlabels\u001b[0m\u001b[0;34m)\u001b[0m \u001b[0;34m!=\u001b[0m \u001b[0mlen\u001b[0m\u001b[0;34m(\u001b[0m\u001b[0mbins\u001b[0m\u001b[0;34m)\u001b[0m \u001b[0;34m-\u001b[0m \u001b[0;36m1\u001b[0m\u001b[0;34m:\u001b[0m\u001b[0;34m\u001b[0m\u001b[0m\n",
      "\u001b[0;32m/usr/local/lib/python3.6/site-packages/pandas/core/reshape/tile.py\u001b[0m in \u001b[0;36m_format_labels\u001b[0;34m(bins, precision, right, include_lowest, dtype)\u001b[0m\n\u001b[1;32m    479\u001b[0m \u001b[0;34m\u001b[0m\u001b[0m\n\u001b[1;32m    480\u001b[0m     \u001b[0mbreaks\u001b[0m \u001b[0;34m=\u001b[0m \u001b[0;34m[\u001b[0m\u001b[0mformatter\u001b[0m\u001b[0;34m(\u001b[0m\u001b[0mb\u001b[0m\u001b[0;34m)\u001b[0m \u001b[0;32mfor\u001b[0m \u001b[0mb\u001b[0m \u001b[0;32min\u001b[0m \u001b[0mbins\u001b[0m\u001b[0;34m]\u001b[0m\u001b[0;34m\u001b[0m\u001b[0m\n\u001b[0;32m--> 481\u001b[0;31m     \u001b[0mlabels\u001b[0m \u001b[0;34m=\u001b[0m \u001b[0mIntervalIndex\u001b[0m\u001b[0;34m.\u001b[0m\u001b[0mfrom_breaks\u001b[0m\u001b[0;34m(\u001b[0m\u001b[0mbreaks\u001b[0m\u001b[0;34m,\u001b[0m \u001b[0mclosed\u001b[0m\u001b[0;34m=\u001b[0m\u001b[0mclosed\u001b[0m\u001b[0;34m)\u001b[0m\u001b[0;34m\u001b[0m\u001b[0m\n\u001b[0m\u001b[1;32m    482\u001b[0m \u001b[0;34m\u001b[0m\u001b[0m\n\u001b[1;32m    483\u001b[0m     \u001b[0;32mif\u001b[0m \u001b[0mright\u001b[0m \u001b[0;32mand\u001b[0m \u001b[0minclude_lowest\u001b[0m\u001b[0;34m:\u001b[0m\u001b[0;34m\u001b[0m\u001b[0m\n",
      "\u001b[0;32m/usr/local/lib/python3.6/site-packages/pandas/core/indexes/interval.py\u001b[0m in \u001b[0;36mfrom_breaks\u001b[0;34m(cls, breaks, closed, name, copy, dtype)\u001b[0m\n\u001b[1;32m    178\u001b[0m         \u001b[0;32mwith\u001b[0m \u001b[0mrewrite_exception\u001b[0m\u001b[0;34m(\u001b[0m\u001b[0;34m\"IntervalArray\"\u001b[0m\u001b[0;34m,\u001b[0m \u001b[0mcls\u001b[0m\u001b[0;34m.\u001b[0m\u001b[0m__name__\u001b[0m\u001b[0;34m)\u001b[0m\u001b[0;34m:\u001b[0m\u001b[0;34m\u001b[0m\u001b[0m\n\u001b[1;32m    179\u001b[0m             array = IntervalArray.from_breaks(breaks, closed=closed, copy=copy,\n\u001b[0;32m--> 180\u001b[0;31m                                               dtype=dtype)\n\u001b[0m\u001b[1;32m    181\u001b[0m         \u001b[0;32mreturn\u001b[0m \u001b[0mcls\u001b[0m\u001b[0;34m.\u001b[0m\u001b[0m_simple_new\u001b[0m\u001b[0;34m(\u001b[0m\u001b[0marray\u001b[0m\u001b[0;34m,\u001b[0m \u001b[0mname\u001b[0m\u001b[0;34m=\u001b[0m\u001b[0mname\u001b[0m\u001b[0;34m)\u001b[0m\u001b[0;34m\u001b[0m\u001b[0m\n\u001b[1;32m    182\u001b[0m \u001b[0;34m\u001b[0m\u001b[0m\n",
      "\u001b[0;32m/usr/local/lib/python3.6/site-packages/pandas/core/arrays/interval.py\u001b[0m in \u001b[0;36mfrom_breaks\u001b[0;34m(cls, breaks, closed, copy, dtype)\u001b[0m\n\u001b[1;32m    262\u001b[0m \u001b[0;34m\u001b[0m\u001b[0m\n\u001b[1;32m    263\u001b[0m         return cls.from_arrays(breaks[:-1], breaks[1:], closed, copy=copy,\n\u001b[0;32m--> 264\u001b[0;31m                                dtype=dtype)\n\u001b[0m\u001b[1;32m    265\u001b[0m \u001b[0;34m\u001b[0m\u001b[0m\n\u001b[1;32m    266\u001b[0m     _interval_shared_docs['from_arrays'] = \"\"\"\n",
      "\u001b[0;32m/usr/local/lib/python3.6/site-packages/pandas/core/arrays/interval.py\u001b[0m in \u001b[0;36mfrom_arrays\u001b[0;34m(cls, left, right, closed, copy, dtype)\u001b[0m\n\u001b[1;32m    325\u001b[0m \u001b[0;34m\u001b[0m\u001b[0m\n\u001b[1;32m    326\u001b[0m         return cls._simple_new(left, right, closed, copy=copy,\n\u001b[0;32m--> 327\u001b[0;31m                                dtype=dtype, verify_integrity=True)\n\u001b[0m\u001b[1;32m    328\u001b[0m \u001b[0;34m\u001b[0m\u001b[0m\n\u001b[1;32m    329\u001b[0m     _interval_shared_docs['from_intervals'] = \"\"\"\n",
      "\u001b[0;32m/usr/local/lib/python3.6/site-packages/pandas/core/arrays/interval.py\u001b[0m in \u001b[0;36m_simple_new\u001b[0;34m(cls, left, right, closed, copy, dtype, verify_integrity)\u001b[0m\n\u001b[1;32m    195\u001b[0m             msg = ('category, object, and string subtypes are not supported '\n\u001b[1;32m    196\u001b[0m                    'for IntervalArray')\n\u001b[0;32m--> 197\u001b[0;31m             \u001b[0;32mraise\u001b[0m \u001b[0mTypeError\u001b[0m\u001b[0;34m(\u001b[0m\u001b[0mmsg\u001b[0m\u001b[0;34m)\u001b[0m\u001b[0;34m\u001b[0m\u001b[0m\n\u001b[0m\u001b[1;32m    198\u001b[0m         \u001b[0;32melif\u001b[0m \u001b[0misinstance\u001b[0m\u001b[0;34m(\u001b[0m\u001b[0mleft\u001b[0m\u001b[0;34m,\u001b[0m \u001b[0mABCPeriodIndex\u001b[0m\u001b[0;34m)\u001b[0m\u001b[0;34m:\u001b[0m\u001b[0;34m\u001b[0m\u001b[0m\n\u001b[1;32m    199\u001b[0m             \u001b[0mmsg\u001b[0m \u001b[0;34m=\u001b[0m \u001b[0;34m'Period dtypes are not supported, use a PeriodIndex instead'\u001b[0m\u001b[0;34m\u001b[0m\u001b[0m\n",
      "\u001b[0;31mTypeError\u001b[0m: category, object, and string subtypes are not supported for IntervalIndex"
     ]
    }
   ],
   "source": [
    "for _, group in tmpdf.groupby('adid'):\n",
    "    events = group['datetime'].loc[group['partner_index']=='conv'] \n",
    "    \n",
    "    if events.empty: # 아예 conv 경우가 없는 group은 empty series 반환\n",
    "        continue # 해당 adid의 group 건너뛰기\n",
    "        \n",
    "    pd.cut(group.datetime, events)\n",
    "    break"
   ]
  },
  {
   "cell_type": "code",
   "execution_count": null,
   "metadata": {},
   "outputs": [],
   "source": [
    "#여기서 코드 상 임시저장을 해야됨 ㅠ\n",
    "df.to_csv('lookback_data_marked_one.csv',encoding = 'utf-8', index = False)"
   ]
  },
  {
   "cell_type": "code",
   "execution_count": null,
   "metadata": {},
   "outputs": [],
   "source": [
    "####여기서부터 null로 끝나는 path들을 만드는 과정임####"
   ]
  },
  {
   "cell_type": "code",
   "execution_count": null,
   "metadata": {},
   "outputs": [],
   "source": [
    "#0만 남길 테이블을 만들어보자\n",
    "df_zero = pd.read_csv('lookback_data_marked_one.csv')"
   ]
  },
  {
   "cell_type": "code",
   "execution_count": null,
   "metadata": {},
   "outputs": [],
   "source": [
    "#1인 행들을 제거하는 코드임\n",
    "indexNames = df_zero[df_zero['contributed'] == 1 ].index\n",
    "df_zero.drop(indexNames , inplace=True)"
   ]
  },
  {
   "cell_type": "code",
   "execution_count": null,
   "metadata": {
    "scrolled": true
   },
   "outputs": [],
   "source": [
    "df_zero.head(50)"
   ]
  },
  {
   "cell_type": "code",
   "execution_count": null,
   "metadata": {},
   "outputs": [],
   "source": [
    "#인덱스를 다시 매겨보자\n",
    "df_zero = df_zero.reset_index(drop=True)"
   ]
  },
  {
   "cell_type": "code",
   "execution_count": null,
   "metadata": {},
   "outputs": [],
   "source": [
    "#일단 adid_same을 만들어보자\n",
    "df_zero['adid2']=df_zero['adid'].shift(1)\n",
    "df_zero['adid_same']=df_zero['adid']==df_zero['adid2']"
   ]
  },
  {
   "cell_type": "code",
   "execution_count": null,
   "metadata": {},
   "outputs": [],
   "source": [
    "#새로 불러왔으니 다시 datetime을 string->datetime으로 타입변경\n",
    "df_zero['datetime'] = df_zero['datetime'].apply(make_datetime)"
   ]
  },
  {
   "cell_type": "code",
   "execution_count": null,
   "metadata": {},
   "outputs": [],
   "source": [
    "#zip()으로 range(len(df)), adid_same, datetime들만 존재하는 튜플을 만들어보자!\n",
    "#zip은 튜플로 구성된 iterator를 반환해준다.\n",
    "zipped_zero = zip(range(len(df_zero)),df_zero['adid_same'],df_zero['datetime'], df_zero['partner_index'])"
   ]
  },
  {
   "cell_type": "code",
   "execution_count": null,
   "metadata": {},
   "outputs": [],
   "source": [
    "#새로운 dataframe을 만들자. 얘는 나중에 null로 끝날 패스들의 행을 모두 갖게 됨\n",
    "columns = ['path', 'conversion','null', 'amount']\n",
    "result_zero = pd.DataFrame(columns=columns)"
   ]
  },
  {
   "cell_type": "code",
   "execution_count": null,
   "metadata": {},
   "outputs": [],
   "source": [
    "#일단 session에 포함될 수 있는 이벤트의 종류는 총 몇개인가? 확인 차 넣은 코드\n",
    "df_zero['partner_index'].unique()"
   ]
  },
  {
   "cell_type": "code",
   "execution_count": null,
   "metadata": {},
   "outputs": [],
   "source": [
    "#session이 언제 나뉘어야 할까?\n",
    "# 1. adid가 전행과 다를 때\n",
    "# 2. 기준점으로부터 시간이 날짜수*86400초를 넘었을 때\n",
    "\n",
    "#이 null_paths에는 생성된 모든 패스들이 생성된 순서대로 담기게 된다. 이후 result_zero의 'path' 열에 바로 붙일 것임!\n",
    "null_paths = []\n",
    "\n",
    "#얘들은 아래 코드를 돌리기 위해 외부에 설정해놓은 변수\n",
    "start = True\n",
    "standard_datetime = \"\"\n",
    "path_list = []\n",
    "for row in tqdm_notebook(list(zipped_zero)):\n",
    "    if(start):#아예 첫 행\n",
    "        standard_datetime = row[2]\n",
    "        path_list.append(row[3])\n",
    "        start = False\n",
    "    else:#그 외의 행\n",
    "        #adid가 같은 경우\n",
    "        if(row[1]):\n",
    "            #룩백 윈도우를 넘은 경우\n",
    "            if((row[2]-standard_datetime).total_seconds()>=259200):\n",
    "                path = ''.join(path_list)\n",
    "                path_list = []\n",
    "                path_list.append(row[3])\n",
    "                null_paths.append(path)\n",
    "                standard_datetime = row[2]\n",
    "            else:\n",
    "                path_list.append(' > ')\n",
    "                path_list.append(row[3])\n",
    "        #adid가 바뀐 경우 : 당연히 세션이 새로 시작되어야 함\n",
    "        else:\n",
    "            path = ''.join(path_list)\n",
    "            path_list = []\n",
    "            path_list.append(row[3])\n",
    "            null_paths.append(path)\n",
    "            standard_datetime = row[2]"
   ]
  },
  {
   "cell_type": "code",
   "execution_count": null,
   "metadata": {},
   "outputs": [],
   "source": [
    "result_zero['path']=null_paths\n",
    "result_zero['conversion']=0\n",
    "result_zero['null']=1\n",
    "result_zero['amount']=0"
   ]
  },
  {
   "cell_type": "code",
   "execution_count": null,
   "metadata": {},
   "outputs": [],
   "source": [
    "####여기서부터 conversion으로 끝나는 path들을 만드는 과정임####"
   ]
  },
  {
   "cell_type": "code",
   "execution_count": null,
   "metadata": {},
   "outputs": [],
   "source": [
    "df_one = pd.read_csv('lookback_data_marked_one.csv')"
   ]
  },
  {
   "cell_type": "code",
   "execution_count": null,
   "metadata": {},
   "outputs": [],
   "source": [
    "#0인 행들을 제거하는 코드임\n",
    "indexNames = df_one[df_one['contributed'] == 0 ].index\n",
    "df_one.drop(indexNames , inplace=True)"
   ]
  },
  {
   "cell_type": "code",
   "execution_count": null,
   "metadata": {},
   "outputs": [],
   "source": [
    "#df를 뒤집어보자\n",
    "df_one = df_one.iloc[::-1]"
   ]
  },
  {
   "cell_type": "code",
   "execution_count": null,
   "metadata": {},
   "outputs": [],
   "source": [
    "#인덱스를 다시 매겨보자\n",
    "df_one = df_one.reset_index(drop=True)"
   ]
  },
  {
   "cell_type": "code",
   "execution_count": null,
   "metadata": {},
   "outputs": [],
   "source": [
    "#adid_same을 만들어보자.\n",
    "df_one['adid2']=df_one['adid'].shift(1)\n",
    "df_one['adid_same']=df_one['adid']==df_one['adid2']"
   ]
  },
  {
   "cell_type": "code",
   "execution_count": null,
   "metadata": {},
   "outputs": [],
   "source": [
    "#이제 datetime 열의 요소들은 string이 아니라 실제 datetime\n",
    "df_one['datetime'] = df_one['datetime'].apply(make_datetime)"
   ]
  },
  {
   "cell_type": "code",
   "execution_count": null,
   "metadata": {},
   "outputs": [],
   "source": [
    "#zip()으로 range(len(df)), adid_same, datetime, partner_index들만 존재하는 튜플을 만들어보자!\n",
    "#zip은 튜플로 구성된 iterator를 반환해준다.\n",
    "zipped_one = zip(range(len(df_one)),df_one['adid_same'],df_one['datetime'], df_one['partner_index'])"
   ]
  },
  {
   "cell_type": "code",
   "execution_count": null,
   "metadata": {},
   "outputs": [],
   "source": [
    "#새로운 dataframe을 만들자. columns는 위와 동일하니 그대로.\n",
    "result_one = pd.DataFrame(columns=columns)"
   ]
  },
  {
   "cell_type": "code",
   "execution_count": null,
   "metadata": {},
   "outputs": [],
   "source": [
    "#일단 session에 포함될 수 있는 이벤트의 종류는?\n",
    "df_one['partner_index'].unique()"
   ]
  },
  {
   "cell_type": "code",
   "execution_count": null,
   "metadata": {},
   "outputs": [],
   "source": [
    "conversion_paths = []\n",
    "amounts = []"
   ]
  },
  {
   "cell_type": "code",
   "execution_count": null,
   "metadata": {},
   "outputs": [],
   "source": [
    "#dict를 안 쓰는 버전으로 해보자\n",
    "#session이 언제 나뉘어야 할까?\n",
    "# 1. adid가 전행과 다를 때\n",
    "# 2. 기준점으로부터 시간이 날짜수*86400초를 넘었을 때\n",
    "\n",
    "start = True\n",
    "standard_datetime = \"\"\n",
    "path_list = []\n",
    "limit = len(df_one)\n",
    "for row in tqdm_notebook(list(zipped_one)):\n",
    "    if(row[3]=='conv'):\n",
    "        standard_datetime = row[2]\n",
    "        last = True\n",
    "        tmp_index = row[0]+1\n",
    "        if(tmp_index==limit):\n",
    "            break\n",
    "        while(True):\n",
    "            if(df_one['adid_same'][tmp_index]):\n",
    "                if((standard_datetime-df_one['datetime'][tmp_index]).total_seconds()<259200):\n",
    "                    if(df_one['partner_index'][tmp_index]!='conv'):\n",
    "                        if(last):\n",
    "                            path_list.append(df_one['partner_index'][tmp_index])\n",
    "                            last = False\n",
    "                        else:\n",
    "                            path_list.insert(0, ' > ')\n",
    "                            path_list.insert(0, df_one['partner_index'][tmp_index])\n",
    "                    tmp_index = tmp_index + 1\n",
    "                    if(tmp_index == limit):\n",
    "                        break\n",
    "                    continue\n",
    "                else:\n",
    "                    break\n",
    "            else:\n",
    "                break\n",
    "        if(len(path_list)>0):\n",
    "            conversion_paths.append(''.join(path_list))\n",
    "            amounts.append(df_one['amount'][row[0]])\n",
    "            path_list = []"
   ]
  },
  {
   "cell_type": "code",
   "execution_count": null,
   "metadata": {},
   "outputs": [],
   "source": [
    "result_one['path']=conversion_paths\n",
    "result_one['amount']=amounts\n",
    "result_one['conversion']=1\n",
    "result_one['null']=0"
   ]
  },
  {
   "cell_type": "code",
   "execution_count": null,
   "metadata": {},
   "outputs": [],
   "source": [
    "#이제 result_zero와 result_one을 합치자.\n",
    "result_complete = pd.concat([result_zero, result_one], ignore_index=True)"
   ]
  },
  {
   "cell_type": "code",
   "execution_count": null,
   "metadata": {
    "scrolled": false
   },
   "outputs": [],
   "source": [
    "result_complete.tail(50)"
   ]
  },
  {
   "cell_type": "code",
   "execution_count": null,
   "metadata": {},
   "outputs": [],
   "source": [
    "result_complete.to_csv('lookback_path_complete.csv', encoding = 'utf-8', index = False)"
   ]
  },
  {
   "cell_type": "code",
   "execution_count": null,
   "metadata": {},
   "outputs": [],
   "source": []
  }
 ],
 "metadata": {
  "kernelspec": {
   "display_name": "Python 3",
   "language": "python",
   "name": "python3"
  },
  "language_info": {
   "codemirror_mode": {
    "name": "ipython",
    "version": 3
   },
   "file_extension": ".py",
   "mimetype": "text/x-python",
   "name": "python",
   "nbconvert_exporter": "python",
   "pygments_lexer": "ipython3",
   "version": "3.6.5"
  }
 },
 "nbformat": 4,
 "nbformat_minor": 2
}
